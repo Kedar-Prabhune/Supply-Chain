{
 "cells": [
  {
   "cell_type": "code",
   "execution_count": 22,
   "metadata": {
    "cell_id": "ee0577812bcd414c8a71cf5d432e178c",
    "deepnote_app_block_visible": true,
    "deepnote_cell_type": "code",
    "deepnote_to_be_reexecuted": false,
    "executionInfo": {
     "elapsed": 240,
     "status": "ok",
     "timestamp": 1712807459449,
     "user": {
      "displayName": "Kedar Prabhune",
      "userId": "00885728590805896569"
     },
     "user_tz": 420
    },
    "execution_millis": 887,
    "execution_start": 1713074147009,
    "id": "0qt5IXJFqLNs",
    "source_hash": null
   },
   "outputs": [],
   "source": [
    "import pandas as pd\n",
    "import numpy as np\n",
    "import seaborn as sns\n",
    "from matplotlib import pyplot as plt\n",
    "from sklearn.model_selection import train_test_split, GridSearchCV\n",
    "from sklearn.metrics import accuracy_score, classification_report, confusion_matrix\n",
    "from sklearn.svm import SVC\n",
    "from sklearn.ensemble import RandomForestClassifier\n",
    "from sklearn.preprocessing import LabelEncoder\n",
    "from sklearn.preprocessing import StandardScaler"
   ]
  },
  {
   "cell_type": "code",
   "execution_count": 23,
   "metadata": {
    "cell_id": "a5b0a51ce7164ffc856beae3119ea19c",
    "colab": {
     "base_uri": "https://localhost:8080/",
     "height": 912
    },
    "deepnote_app_block_visible": true,
    "deepnote_cell_type": "code",
    "deepnote_to_be_reexecuted": false,
    "executionInfo": {
     "elapsed": 4938,
     "status": "ok",
     "timestamp": 1712807464384,
     "user": {
      "displayName": "Kedar Prabhune",
      "userId": "00885728590805896569"
     },
     "user_tz": 420
    },
    "execution_millis": 3681,
    "execution_start": 1713074149701,
    "id": "G8vTaLiA-vep",
    "outputId": "ebee4aad-e049-4711-8fd8-0552e9d5f9ff",
    "source_hash": null
   },
   "outputs": [
    {
     "data": {
      "text/html": [
       "<div>\n",
       "<style scoped>\n",
       "    .dataframe tbody tr th:only-of-type {\n",
       "        vertical-align: middle;\n",
       "    }\n",
       "\n",
       "    .dataframe tbody tr th {\n",
       "        vertical-align: top;\n",
       "    }\n",
       "\n",
       "    .dataframe thead th {\n",
       "        text-align: right;\n",
       "    }\n",
       "</style>\n",
       "<table border=\"1\" class=\"dataframe\">\n",
       "  <thead>\n",
       "    <tr style=\"text-align: right;\">\n",
       "      <th></th>\n",
       "      <th>Type</th>\n",
       "      <th>Days for shipping (real)</th>\n",
       "      <th>Days for shipment (scheduled)</th>\n",
       "      <th>Benefit per order</th>\n",
       "      <th>Sales per customer</th>\n",
       "      <th>Delivery Status</th>\n",
       "      <th>Late_delivery_risk</th>\n",
       "      <th>Category Id</th>\n",
       "      <th>Category Name</th>\n",
       "      <th>Customer City</th>\n",
       "      <th>...</th>\n",
       "      <th>Order Zipcode</th>\n",
       "      <th>Product Card Id</th>\n",
       "      <th>Product Category Id</th>\n",
       "      <th>Product Description</th>\n",
       "      <th>Product Image</th>\n",
       "      <th>Product Name</th>\n",
       "      <th>Product Price</th>\n",
       "      <th>Product Status</th>\n",
       "      <th>shipping date (DateOrders)</th>\n",
       "      <th>Shipping Mode</th>\n",
       "    </tr>\n",
       "  </thead>\n",
       "  <tbody>\n",
       "    <tr>\n",
       "      <th>0</th>\n",
       "      <td>DEBIT</td>\n",
       "      <td>3</td>\n",
       "      <td>4</td>\n",
       "      <td>91.250000</td>\n",
       "      <td>314.640015</td>\n",
       "      <td>Advance shipping</td>\n",
       "      <td>0</td>\n",
       "      <td>73</td>\n",
       "      <td>Sporting Goods</td>\n",
       "      <td>Caguas</td>\n",
       "      <td>...</td>\n",
       "      <td>NaN</td>\n",
       "      <td>1360</td>\n",
       "      <td>73</td>\n",
       "      <td>NaN</td>\n",
       "      <td>http://images.acmesports.sports/Smart+watch</td>\n",
       "      <td>Smart watch</td>\n",
       "      <td>327.750000</td>\n",
       "      <td>0</td>\n",
       "      <td>2/3/2018 22:56</td>\n",
       "      <td>Standard Class</td>\n",
       "    </tr>\n",
       "    <tr>\n",
       "      <th>1</th>\n",
       "      <td>TRANSFER</td>\n",
       "      <td>5</td>\n",
       "      <td>4</td>\n",
       "      <td>-249.089996</td>\n",
       "      <td>311.359985</td>\n",
       "      <td>Late delivery</td>\n",
       "      <td>1</td>\n",
       "      <td>73</td>\n",
       "      <td>Sporting Goods</td>\n",
       "      <td>Caguas</td>\n",
       "      <td>...</td>\n",
       "      <td>NaN</td>\n",
       "      <td>1360</td>\n",
       "      <td>73</td>\n",
       "      <td>NaN</td>\n",
       "      <td>http://images.acmesports.sports/Smart+watch</td>\n",
       "      <td>Smart watch</td>\n",
       "      <td>327.750000</td>\n",
       "      <td>0</td>\n",
       "      <td>1/18/2018 12:27</td>\n",
       "      <td>Standard Class</td>\n",
       "    </tr>\n",
       "    <tr>\n",
       "      <th>2</th>\n",
       "      <td>CASH</td>\n",
       "      <td>4</td>\n",
       "      <td>4</td>\n",
       "      <td>-247.779999</td>\n",
       "      <td>309.720001</td>\n",
       "      <td>Shipping on time</td>\n",
       "      <td>0</td>\n",
       "      <td>73</td>\n",
       "      <td>Sporting Goods</td>\n",
       "      <td>San Jose</td>\n",
       "      <td>...</td>\n",
       "      <td>NaN</td>\n",
       "      <td>1360</td>\n",
       "      <td>73</td>\n",
       "      <td>NaN</td>\n",
       "      <td>http://images.acmesports.sports/Smart+watch</td>\n",
       "      <td>Smart watch</td>\n",
       "      <td>327.750000</td>\n",
       "      <td>0</td>\n",
       "      <td>1/17/2018 12:06</td>\n",
       "      <td>Standard Class</td>\n",
       "    </tr>\n",
       "    <tr>\n",
       "      <th>3</th>\n",
       "      <td>DEBIT</td>\n",
       "      <td>3</td>\n",
       "      <td>4</td>\n",
       "      <td>22.860001</td>\n",
       "      <td>304.809998</td>\n",
       "      <td>Advance shipping</td>\n",
       "      <td>0</td>\n",
       "      <td>73</td>\n",
       "      <td>Sporting Goods</td>\n",
       "      <td>Los Angeles</td>\n",
       "      <td>...</td>\n",
       "      <td>NaN</td>\n",
       "      <td>1360</td>\n",
       "      <td>73</td>\n",
       "      <td>NaN</td>\n",
       "      <td>http://images.acmesports.sports/Smart+watch</td>\n",
       "      <td>Smart watch</td>\n",
       "      <td>327.750000</td>\n",
       "      <td>0</td>\n",
       "      <td>1/16/2018 11:45</td>\n",
       "      <td>Standard Class</td>\n",
       "    </tr>\n",
       "    <tr>\n",
       "      <th>4</th>\n",
       "      <td>PAYMENT</td>\n",
       "      <td>2</td>\n",
       "      <td>4</td>\n",
       "      <td>134.210007</td>\n",
       "      <td>298.250000</td>\n",
       "      <td>Advance shipping</td>\n",
       "      <td>0</td>\n",
       "      <td>73</td>\n",
       "      <td>Sporting Goods</td>\n",
       "      <td>Caguas</td>\n",
       "      <td>...</td>\n",
       "      <td>NaN</td>\n",
       "      <td>1360</td>\n",
       "      <td>73</td>\n",
       "      <td>NaN</td>\n",
       "      <td>http://images.acmesports.sports/Smart+watch</td>\n",
       "      <td>Smart watch</td>\n",
       "      <td>327.750000</td>\n",
       "      <td>0</td>\n",
       "      <td>1/15/2018 11:24</td>\n",
       "      <td>Standard Class</td>\n",
       "    </tr>\n",
       "    <tr>\n",
       "      <th>...</th>\n",
       "      <td>...</td>\n",
       "      <td>...</td>\n",
       "      <td>...</td>\n",
       "      <td>...</td>\n",
       "      <td>...</td>\n",
       "      <td>...</td>\n",
       "      <td>...</td>\n",
       "      <td>...</td>\n",
       "      <td>...</td>\n",
       "      <td>...</td>\n",
       "      <td>...</td>\n",
       "      <td>...</td>\n",
       "      <td>...</td>\n",
       "      <td>...</td>\n",
       "      <td>...</td>\n",
       "      <td>...</td>\n",
       "      <td>...</td>\n",
       "      <td>...</td>\n",
       "      <td>...</td>\n",
       "      <td>...</td>\n",
       "      <td>...</td>\n",
       "    </tr>\n",
       "    <tr>\n",
       "      <th>180514</th>\n",
       "      <td>CASH</td>\n",
       "      <td>4</td>\n",
       "      <td>4</td>\n",
       "      <td>40.000000</td>\n",
       "      <td>399.980011</td>\n",
       "      <td>Shipping on time</td>\n",
       "      <td>0</td>\n",
       "      <td>45</td>\n",
       "      <td>Fishing</td>\n",
       "      <td>Brooklyn</td>\n",
       "      <td>...</td>\n",
       "      <td>NaN</td>\n",
       "      <td>1004</td>\n",
       "      <td>45</td>\n",
       "      <td>NaN</td>\n",
       "      <td>http://images.acmesports.sports/Field+%26+Stre...</td>\n",
       "      <td>Field &amp; Stream Sportsman 16 Gun Fire Safe</td>\n",
       "      <td>399.980011</td>\n",
       "      <td>0</td>\n",
       "      <td>1/20/2016 3:40</td>\n",
       "      <td>Standard Class</td>\n",
       "    </tr>\n",
       "    <tr>\n",
       "      <th>180515</th>\n",
       "      <td>DEBIT</td>\n",
       "      <td>3</td>\n",
       "      <td>2</td>\n",
       "      <td>-613.770019</td>\n",
       "      <td>395.980011</td>\n",
       "      <td>Late delivery</td>\n",
       "      <td>1</td>\n",
       "      <td>45</td>\n",
       "      <td>Fishing</td>\n",
       "      <td>Bakersfield</td>\n",
       "      <td>...</td>\n",
       "      <td>NaN</td>\n",
       "      <td>1004</td>\n",
       "      <td>45</td>\n",
       "      <td>NaN</td>\n",
       "      <td>http://images.acmesports.sports/Field+%26+Stre...</td>\n",
       "      <td>Field &amp; Stream Sportsman 16 Gun Fire Safe</td>\n",
       "      <td>399.980011</td>\n",
       "      <td>0</td>\n",
       "      <td>1/19/2016 1:34</td>\n",
       "      <td>Second Class</td>\n",
       "    </tr>\n",
       "    <tr>\n",
       "      <th>180516</th>\n",
       "      <td>TRANSFER</td>\n",
       "      <td>5</td>\n",
       "      <td>4</td>\n",
       "      <td>141.110001</td>\n",
       "      <td>391.980011</td>\n",
       "      <td>Late delivery</td>\n",
       "      <td>1</td>\n",
       "      <td>45</td>\n",
       "      <td>Fishing</td>\n",
       "      <td>Bristol</td>\n",
       "      <td>...</td>\n",
       "      <td>NaN</td>\n",
       "      <td>1004</td>\n",
       "      <td>45</td>\n",
       "      <td>NaN</td>\n",
       "      <td>http://images.acmesports.sports/Field+%26+Stre...</td>\n",
       "      <td>Field &amp; Stream Sportsman 16 Gun Fire Safe</td>\n",
       "      <td>399.980011</td>\n",
       "      <td>0</td>\n",
       "      <td>1/20/2016 21:00</td>\n",
       "      <td>Standard Class</td>\n",
       "    </tr>\n",
       "    <tr>\n",
       "      <th>180517</th>\n",
       "      <td>PAYMENT</td>\n",
       "      <td>3</td>\n",
       "      <td>4</td>\n",
       "      <td>186.229996</td>\n",
       "      <td>387.980011</td>\n",
       "      <td>Advance shipping</td>\n",
       "      <td>0</td>\n",
       "      <td>45</td>\n",
       "      <td>Fishing</td>\n",
       "      <td>Caguas</td>\n",
       "      <td>...</td>\n",
       "      <td>NaN</td>\n",
       "      <td>1004</td>\n",
       "      <td>45</td>\n",
       "      <td>NaN</td>\n",
       "      <td>http://images.acmesports.sports/Field+%26+Stre...</td>\n",
       "      <td>Field &amp; Stream Sportsman 16 Gun Fire Safe</td>\n",
       "      <td>399.980011</td>\n",
       "      <td>0</td>\n",
       "      <td>1/18/2016 20:18</td>\n",
       "      <td>Standard Class</td>\n",
       "    </tr>\n",
       "    <tr>\n",
       "      <th>180518</th>\n",
       "      <td>PAYMENT</td>\n",
       "      <td>4</td>\n",
       "      <td>4</td>\n",
       "      <td>168.949997</td>\n",
       "      <td>383.980011</td>\n",
       "      <td>Shipping on time</td>\n",
       "      <td>0</td>\n",
       "      <td>45</td>\n",
       "      <td>Fishing</td>\n",
       "      <td>Caguas</td>\n",
       "      <td>...</td>\n",
       "      <td>NaN</td>\n",
       "      <td>1004</td>\n",
       "      <td>45</td>\n",
       "      <td>NaN</td>\n",
       "      <td>http://images.acmesports.sports/Field+%26+Stre...</td>\n",
       "      <td>Field &amp; Stream Sportsman 16 Gun Fire Safe</td>\n",
       "      <td>399.980011</td>\n",
       "      <td>0</td>\n",
       "      <td>1/19/2016 18:54</td>\n",
       "      <td>Standard Class</td>\n",
       "    </tr>\n",
       "  </tbody>\n",
       "</table>\n",
       "<p>180519 rows × 53 columns</p>\n",
       "</div>"
      ],
      "text/plain": [
       "            Type  Days for shipping (real)  Days for shipment (scheduled)  \\\n",
       "0          DEBIT                         3                              4   \n",
       "1       TRANSFER                         5                              4   \n",
       "2           CASH                         4                              4   \n",
       "3          DEBIT                         3                              4   \n",
       "4        PAYMENT                         2                              4   \n",
       "...          ...                       ...                            ...   \n",
       "180514      CASH                         4                              4   \n",
       "180515     DEBIT                         3                              2   \n",
       "180516  TRANSFER                         5                              4   \n",
       "180517   PAYMENT                         3                              4   \n",
       "180518   PAYMENT                         4                              4   \n",
       "\n",
       "        Benefit per order  Sales per customer   Delivery Status  \\\n",
       "0               91.250000          314.640015  Advance shipping   \n",
       "1             -249.089996          311.359985     Late delivery   \n",
       "2             -247.779999          309.720001  Shipping on time   \n",
       "3               22.860001          304.809998  Advance shipping   \n",
       "4              134.210007          298.250000  Advance shipping   \n",
       "...                   ...                 ...               ...   \n",
       "180514          40.000000          399.980011  Shipping on time   \n",
       "180515        -613.770019          395.980011     Late delivery   \n",
       "180516         141.110001          391.980011     Late delivery   \n",
       "180517         186.229996          387.980011  Advance shipping   \n",
       "180518         168.949997          383.980011  Shipping on time   \n",
       "\n",
       "        Late_delivery_risk  Category Id   Category Name Customer City  ...  \\\n",
       "0                        0           73  Sporting Goods        Caguas  ...   \n",
       "1                        1           73  Sporting Goods        Caguas  ...   \n",
       "2                        0           73  Sporting Goods      San Jose  ...   \n",
       "3                        0           73  Sporting Goods   Los Angeles  ...   \n",
       "4                        0           73  Sporting Goods        Caguas  ...   \n",
       "...                    ...          ...             ...           ...  ...   \n",
       "180514                   0           45         Fishing      Brooklyn  ...   \n",
       "180515                   1           45         Fishing   Bakersfield  ...   \n",
       "180516                   1           45         Fishing       Bristol  ...   \n",
       "180517                   0           45         Fishing        Caguas  ...   \n",
       "180518                   0           45         Fishing        Caguas  ...   \n",
       "\n",
       "       Order Zipcode Product Card Id Product Category Id  Product Description  \\\n",
       "0                NaN            1360                  73                  NaN   \n",
       "1                NaN            1360                  73                  NaN   \n",
       "2                NaN            1360                  73                  NaN   \n",
       "3                NaN            1360                  73                  NaN   \n",
       "4                NaN            1360                  73                  NaN   \n",
       "...              ...             ...                 ...                  ...   \n",
       "180514           NaN            1004                  45                  NaN   \n",
       "180515           NaN            1004                  45                  NaN   \n",
       "180516           NaN            1004                  45                  NaN   \n",
       "180517           NaN            1004                  45                  NaN   \n",
       "180518           NaN            1004                  45                  NaN   \n",
       "\n",
       "                                            Product Image  \\\n",
       "0            http://images.acmesports.sports/Smart+watch    \n",
       "1            http://images.acmesports.sports/Smart+watch    \n",
       "2            http://images.acmesports.sports/Smart+watch    \n",
       "3            http://images.acmesports.sports/Smart+watch    \n",
       "4            http://images.acmesports.sports/Smart+watch    \n",
       "...                                                   ...   \n",
       "180514  http://images.acmesports.sports/Field+%26+Stre...   \n",
       "180515  http://images.acmesports.sports/Field+%26+Stre...   \n",
       "180516  http://images.acmesports.sports/Field+%26+Stre...   \n",
       "180517  http://images.acmesports.sports/Field+%26+Stre...   \n",
       "180518  http://images.acmesports.sports/Field+%26+Stre...   \n",
       "\n",
       "                                     Product Name Product Price  \\\n",
       "0                                    Smart watch     327.750000   \n",
       "1                                    Smart watch     327.750000   \n",
       "2                                    Smart watch     327.750000   \n",
       "3                                    Smart watch     327.750000   \n",
       "4                                    Smart watch     327.750000   \n",
       "...                                           ...           ...   \n",
       "180514  Field & Stream Sportsman 16 Gun Fire Safe    399.980011   \n",
       "180515  Field & Stream Sportsman 16 Gun Fire Safe    399.980011   \n",
       "180516  Field & Stream Sportsman 16 Gun Fire Safe    399.980011   \n",
       "180517  Field & Stream Sportsman 16 Gun Fire Safe    399.980011   \n",
       "180518  Field & Stream Sportsman 16 Gun Fire Safe    399.980011   \n",
       "\n",
       "       Product Status shipping date (DateOrders)   Shipping Mode  \n",
       "0                   0             2/3/2018 22:56  Standard Class  \n",
       "1                   0            1/18/2018 12:27  Standard Class  \n",
       "2                   0            1/17/2018 12:06  Standard Class  \n",
       "3                   0            1/16/2018 11:45  Standard Class  \n",
       "4                   0            1/15/2018 11:24  Standard Class  \n",
       "...               ...                        ...             ...  \n",
       "180514              0             1/20/2016 3:40  Standard Class  \n",
       "180515              0             1/19/2016 1:34    Second Class  \n",
       "180516              0            1/20/2016 21:00  Standard Class  \n",
       "180517              0            1/18/2016 20:18  Standard Class  \n",
       "180518              0            1/19/2016 18:54  Standard Class  \n",
       "\n",
       "[180519 rows x 53 columns]"
      ]
     },
     "execution_count": 23,
     "metadata": {},
     "output_type": "execute_result"
    }
   ],
   "source": [
    "df_supply= pd.read_csv('SupplyChain.csv')\n",
    "df_supply"
   ]
  },
  {
   "cell_type": "code",
   "execution_count": 24,
   "metadata": {
    "cell_id": "180d597369434bbaa834ea156672627d",
    "colab": {
     "base_uri": "https://localhost:8080/"
    },
    "deepnote_app_block_visible": true,
    "deepnote_cell_type": "code",
    "deepnote_to_be_reexecuted": false,
    "executionInfo": {
     "elapsed": 500,
     "status": "ok",
     "timestamp": 1712807464855,
     "user": {
      "displayName": "Kedar Prabhune",
      "userId": "00885728590805896569"
     },
     "user_tz": 420
    },
    "execution_millis": 172,
    "execution_start": 1713074153509,
    "id": "AfqkGR72ETdQ",
    "outputId": "ce103ba2-c2ea-444d-b713-3fc22b1ed7fb",
    "source_hash": null
   },
   "outputs": [
    {
     "name": "stdout",
     "output_type": "stream",
     "text": [
      "<class 'pandas.core.frame.DataFrame'>\n",
      "RangeIndex: 180519 entries, 0 to 180518\n",
      "Data columns (total 53 columns):\n",
      " #   Column                         Non-Null Count   Dtype  \n",
      "---  ------                         --------------   -----  \n",
      " 0   Type                           180519 non-null  object \n",
      " 1   Days for shipping (real)       180519 non-null  int64  \n",
      " 2   Days for shipment (scheduled)  180519 non-null  int64  \n",
      " 3   Benefit per order              180519 non-null  float64\n",
      " 4   Sales per customer             180519 non-null  float64\n",
      " 5   Delivery Status                180519 non-null  object \n",
      " 6   Late_delivery_risk             180519 non-null  int64  \n",
      " 7   Category Id                    180519 non-null  int64  \n",
      " 8   Category Name                  180519 non-null  object \n",
      " 9   Customer City                  180519 non-null  object \n",
      " 10  Customer Country               180519 non-null  object \n",
      " 11  Customer Email                 180519 non-null  object \n",
      " 12  Customer Fname                 180519 non-null  object \n",
      " 13  Customer Id                    180519 non-null  int64  \n",
      " 14  Customer Lname                 180511 non-null  object \n",
      " 15  Customer Password              180519 non-null  object \n",
      " 16  Customer Segment               180519 non-null  object \n",
      " 17  Customer State                 180519 non-null  object \n",
      " 18  Customer Street                180519 non-null  object \n",
      " 19  Customer Zipcode               180516 non-null  float64\n",
      " 20  Department Id                  180519 non-null  int64  \n",
      " 21  Department Name                180519 non-null  object \n",
      " 22  Latitude                       180519 non-null  float64\n",
      " 23  Longitude                      180519 non-null  float64\n",
      " 24  Market                         180519 non-null  object \n",
      " 25  Order City                     180519 non-null  object \n",
      " 26  Order Country                  180519 non-null  object \n",
      " 27  Order Customer Id              180519 non-null  int64  \n",
      " 28  order date (DateOrders)        180519 non-null  object \n",
      " 29  Order Id                       180519 non-null  int64  \n",
      " 30  Order Item Cardprod Id         180519 non-null  int64  \n",
      " 31  Order Item Discount            180519 non-null  float64\n",
      " 32  Order Item Discount Rate       180519 non-null  float64\n",
      " 33  Order Item Id                  180519 non-null  int64  \n",
      " 34  Order Item Product Price       180519 non-null  float64\n",
      " 35  Order Item Profit Ratio        180519 non-null  float64\n",
      " 36  Order Item Quantity            180519 non-null  int64  \n",
      " 37  Sales                          180519 non-null  float64\n",
      " 38  Order Item Total               180519 non-null  float64\n",
      " 39  Order Profit Per Order         180519 non-null  float64\n",
      " 40  Order Region                   180519 non-null  object \n",
      " 41  Order State                    180519 non-null  object \n",
      " 42  Order Status                   180519 non-null  object \n",
      " 43  Order Zipcode                  24840 non-null   float64\n",
      " 44  Product Card Id                180519 non-null  int64  \n",
      " 45  Product Category Id            180519 non-null  int64  \n",
      " 46  Product Description            0 non-null       float64\n",
      " 47  Product Image                  180519 non-null  object \n",
      " 48  Product Name                   180519 non-null  object \n",
      " 49  Product Price                  180519 non-null  float64\n",
      " 50  Product Status                 180519 non-null  int64  \n",
      " 51  shipping date (DateOrders)     180519 non-null  object \n",
      " 52  Shipping Mode                  180519 non-null  object \n",
      "dtypes: float64(15), int64(14), object(24)\n",
      "memory usage: 73.0+ MB\n"
     ]
    }
   ],
   "source": [
    "df_supply.info()"
   ]
  },
  {
   "cell_type": "code",
   "execution_count": 25,
   "metadata": {
    "cell_id": "af0dafe9197b40ca8018384cd44b2619",
    "deepnote_app_block_visible": true,
    "deepnote_cell_type": "code",
    "deepnote_to_be_reexecuted": false,
    "execution_millis": 293,
    "execution_start": 1713074157257,
    "source_hash": null
   },
   "outputs": [
    {
     "data": {
      "image/png": "[encoded data removed]",
      "text/plain": [
       "<Figure size 800x600 with 1 Axes>"
      ]
     },
     "metadata": {},
     "output_type": "display_data"
    }
   ],
   "source": [
    "# Shipping Mode Analysis (Pie Chart)\n",
    "plt.figure(figsize=(8, 6))\n",
    "df_supply['Shipping Mode'].value_counts().plot(kind='pie', autopct='%1.1f%%', colors=['skyblue', 'lightgreen', 'orange', 'lightcoral'])\n",
    "plt.title('Shipping Mode Distribution')\n",
    "plt.ylabel('')\n",
    "plt.show()"
   ]
  },
  {
   "cell_type": "code",
   "execution_count": 26,
   "metadata": {
    "cell_id": "56edfb0926204db49c3ba879781519a8",
    "deepnote_app_block_visible": true,
    "deepnote_cell_type": "code",
    "deepnote_to_be_reexecuted": false,
    "execution_millis": 1227,
    "execution_start": 1713074160007,
    "source_hash": null
   },
   "outputs": [
    {
     "data": {
      "image/png": "[encoded data removed]",
      "text/plain": [
       "<Figure size 1000x600 with 1 Axes>"
      ]
     },
     "metadata": {},
     "output_type": "display_data"
    },
    {
     "data": {
      "text/plain": [
       "<Figure size 640x480 with 0 Axes>"
      ]
     },
     "metadata": {},
     "output_type": "display_data"
    }
   ],
   "source": [
    "# Sales Distribution by Region (Bar Chart)\n",
    "plt.figure(figsize=(10, 6))\n",
    "sns.countplot(data=df_supply, x='Order Region', palette='viridis')\n",
    "plt.title('Sales Distribution by Region')\n",
    "plt.xlabel('Order Region')\n",
    "plt.ylabel('Frequency')\n",
    "plt.xticks(rotation=90)\n",
    "plt.show()\n",
    "plt.savefig('Sales Distribution by Region.png')"
   ]
  },
  {
   "cell_type": "code",
   "execution_count": 27,
   "metadata": {
    "cell_id": "c11a7532969b42198a96340d20fac610",
    "deepnote_app_block_visible": true,
    "deepnote_cell_type": "code",
    "deepnote_to_be_reexecuted": false,
    "execution_millis": 350,
    "execution_start": 1713074165547,
    "source_hash": null
   },
   "outputs": [
    {
     "data": {
      "image/png": "[encoded data removed]",
      "text/plain": [
       "<Figure size 800x600 with 1 Axes>"
      ]
     },
     "metadata": {},
     "output_type": "display_data"
    },
    {
     "data": {
      "text/plain": [
       "<Figure size 640x480 with 0 Axes>"
      ]
     },
     "metadata": {},
     "output_type": "display_data"
    }
   ],
   "source": [
    "# Customer Segment Analysis (Pie Chart)\n",
    "plt.figure(figsize=(8, 6))\n",
    "df_supply['Customer Segment'].value_counts().plot(kind='pie', autopct='%1.1f%%', colors=['skyblue', 'lightgreen', 'orange'])\n",
    "plt.title('Customer Segment Distribution')\n",
    "plt.ylabel('')\n",
    "plt.show()\n",
    "plt.savefig('Customer Segment Distribution.png')"
   ]
  },
  {
   "cell_type": "code",
   "execution_count": 28,
   "metadata": {
    "cell_id": "fc5577e534884054b3004fdab5c73cf2",
    "deepnote_app_block_visible": true,
    "deepnote_cell_type": "code",
    "deepnote_to_be_reexecuted": false,
    "execution_millis": 674,
    "execution_start": 1713074169286,
    "source_hash": null
   },
   "outputs": [
    {
     "data": {
      "image/png": "[encoded data removed]",
      "text/plain": [
       "<Figure size 800x600 with 1 Axes>"
      ]
     },
     "metadata": {},
     "output_type": "display_data"
    }
   ],
   "source": [
    "# Order Status Analysis (Bar Chart)\n",
    "plt.figure(figsize=(8, 6))\n",
    "sns.countplot(data=df_supply, x='Order Status', palette='Set2')\n",
    "plt.title('Order Status Distribution')\n",
    "plt.xlabel('Order Status')\n",
    "plt.ylabel('Frequency')\n",
    "plt.xticks(rotation=90)\n",
    "plt.show()"
   ]
  },
  {
   "cell_type": "code",
   "execution_count": 29,
   "metadata": {
    "cell_id": "deacbf1f237d4e369509676b6afa7c9b",
    "deepnote_app_block_visible": true,
    "deepnote_cell_type": "code",
    "deepnote_to_be_reexecuted": false,
    "execution_millis": 1288,
    "execution_start": 1713074174877,
    "source_hash": null
   },
   "outputs": [
    {
     "data": {
      "image/png": "[encoded data removed]",
      "text/plain": [
       "<Figure size 1000x600 with 1 Axes>"
      ]
     },
     "metadata": {},
     "output_type": "display_data"
    }
   ],
   "source": [
    "# Product Category Analysis (Bar Chart)\n",
    "plt.figure(figsize=(10, 6))\n",
    "sns.countplot(data=df_supply, y='Category Name', palette='muted')\n",
    "plt.title('Product Category Distribution')\n",
    "plt.xlabel('Frequency')\n",
    "plt.ylabel('Category Name')\n",
    "plt.show()"
   ]
  },
  {
   "cell_type": "code",
   "execution_count": 30,
   "metadata": {
    "cell_id": "d0009b03cfec4d8caecbc120d6944b8f",
    "deepnote_app_block_visible": true,
    "deepnote_cell_type": "code",
    "deepnote_to_be_reexecuted": false,
    "execution_millis": 2004,
    "execution_start": 1713074178935,
    "source_hash": null
   },
   "outputs": [
    {
     "data": {
      "image/png": "[encoded data removed]",
      "text/plain": [
       "<Figure size 800x600 with 1 Axes>"
      ]
     },
     "metadata": {},
     "output_type": "display_data"
    },
    {
     "data": {
      "text/plain": [
       "<Figure size 640x480 with 0 Axes>"
      ]
     },
     "metadata": {},
     "output_type": "display_data"
    }
   ],
   "source": [
    "# Order Quantity Analysis (Histogram)\n",
    "plt.figure(figsize=(8, 6))\n",
    "sns.histplot(df_supply['Order Item Quantity'], bins=10, kde=True, color='orange')\n",
    "plt.title('Order Quantity Distribution')\n",
    "plt.xlabel('Order Quantity')\n",
    "plt.ylabel('Frequency')\n",
    "plt.show()\n",
    "plt.savefig('Order Quantity Distribution.png')"
   ]
  },
  {
   "cell_type": "code",
   "execution_count": 31,
   "metadata": {
    "cell_id": "9401e37d42724e6e91219a436fd08b94",
    "deepnote_app_block_visible": true,
    "deepnote_cell_type": "code",
    "deepnote_to_be_reexecuted": false,
    "executionInfo": {
     "elapsed": 15,
     "status": "ok",
     "timestamp": 1712807464856,
     "user": {
      "displayName": "Kedar Prabhune",
      "userId": "00885728590805896569"
     },
     "user_tz": 420
    },
    "execution_millis": 63,
    "execution_start": 1713074181970,
    "id": "8DAM54Oi2CpD",
    "source_hash": null
   },
   "outputs": [],
   "source": [
    "df_supply= df_supply.drop(['Delivery Status','Product Description','Customer Email', 'Customer Fname', 'Customer Id',\n",
    "       'Customer Lname', 'shipping date (DateOrders)', 'Customer Password', 'Customer Segment',  'Order Profit Per Order','Order Item Cardprod Id',\n",
    "       'Order Item Discount', 'Order Item Discount Rate', 'Order Item Id', 'order date (DateOrders)',\n",
    "       'Order Item Product Price', 'Order Region', 'Market', 'Order Item Profit Ratio','Product Card Id', 'Product Category Id',\n",
    "       'Product Description', 'Product Image', 'Benefit per order', 'Category Id', 'Order Status', 'Product Status', 'Order Item Total','Department Id',\n",
    "       'Department Name', 'Order Id', 'Order Region', 'Order Customer Id', 'Order Zipcode','Days for shipping (real)', 'Sales per customer', 'Category Name', 'Customer City', 'Customer Country', 'Customer State',\n",
    "       'Customer Street', 'Product Name'], axis=1)"
   ]
  },
  {
   "cell_type": "code",
   "execution_count": 32,
   "metadata": {
    "cell_id": "b52c4ba3215648248d5f39d5dc9f194a",
    "colab": {
     "base_uri": "https://localhost:8080/"
    },
    "deepnote_app_block_visible": true,
    "deepnote_cell_type": "code",
    "deepnote_to_be_reexecuted": false,
    "executionInfo": {
     "elapsed": 12,
     "status": "ok",
     "timestamp": 1712807465084,
     "user": {
      "displayName": "Kedar Prabhune",
      "userId": "00885728590805896569"
     },
     "user_tz": 420
    },
    "execution_millis": 225,
    "execution_start": 1713074185950,
    "id": "QAEQt0qg3s2j",
    "outputId": "bcbf7bd3-32fc-4a35-9143-95a562e62fe8",
    "source_hash": null
   },
   "outputs": [
    {
     "data": {
      "text/html": [
       "<div>\n",
       "<style scoped>\n",
       "    .dataframe tbody tr th:only-of-type {\n",
       "        vertical-align: middle;\n",
       "    }\n",
       "\n",
       "    .dataframe tbody tr th {\n",
       "        vertical-align: top;\n",
       "    }\n",
       "\n",
       "    .dataframe thead th {\n",
       "        text-align: right;\n",
       "    }\n",
       "</style>\n",
       "<table border=\"1\" class=\"dataframe\">\n",
       "  <thead>\n",
       "    <tr style=\"text-align: right;\">\n",
       "      <th></th>\n",
       "      <th>Type</th>\n",
       "      <th>Days for shipment (scheduled)</th>\n",
       "      <th>Late_delivery_risk</th>\n",
       "      <th>Customer Zipcode</th>\n",
       "      <th>Latitude</th>\n",
       "      <th>Longitude</th>\n",
       "      <th>Order City</th>\n",
       "      <th>Order Country</th>\n",
       "      <th>Order Item Quantity</th>\n",
       "      <th>Sales</th>\n",
       "      <th>Order State</th>\n",
       "      <th>Product Price</th>\n",
       "      <th>Shipping Mode</th>\n",
       "    </tr>\n",
       "  </thead>\n",
       "  <tbody>\n",
       "    <tr>\n",
       "      <th>0</th>\n",
       "      <td>DEBIT</td>\n",
       "      <td>4</td>\n",
       "      <td>0</td>\n",
       "      <td>725.0</td>\n",
       "      <td>18.251453</td>\n",
       "      <td>-66.037056</td>\n",
       "      <td>Bekasi</td>\n",
       "      <td>Indonesia</td>\n",
       "      <td>1</td>\n",
       "      <td>327.750000</td>\n",
       "      <td>Java Occidental</td>\n",
       "      <td>327.750000</td>\n",
       "      <td>Standard Class</td>\n",
       "    </tr>\n",
       "    <tr>\n",
       "      <th>1</th>\n",
       "      <td>TRANSFER</td>\n",
       "      <td>4</td>\n",
       "      <td>1</td>\n",
       "      <td>725.0</td>\n",
       "      <td>18.279451</td>\n",
       "      <td>-66.037064</td>\n",
       "      <td>Bikaner</td>\n",
       "      <td>India</td>\n",
       "      <td>1</td>\n",
       "      <td>327.750000</td>\n",
       "      <td>Rajastán</td>\n",
       "      <td>327.750000</td>\n",
       "      <td>Standard Class</td>\n",
       "    </tr>\n",
       "    <tr>\n",
       "      <th>2</th>\n",
       "      <td>CASH</td>\n",
       "      <td>4</td>\n",
       "      <td>0</td>\n",
       "      <td>95125.0</td>\n",
       "      <td>37.292233</td>\n",
       "      <td>-121.881279</td>\n",
       "      <td>Bikaner</td>\n",
       "      <td>India</td>\n",
       "      <td>1</td>\n",
       "      <td>327.750000</td>\n",
       "      <td>Rajastán</td>\n",
       "      <td>327.750000</td>\n",
       "      <td>Standard Class</td>\n",
       "    </tr>\n",
       "    <tr>\n",
       "      <th>3</th>\n",
       "      <td>DEBIT</td>\n",
       "      <td>4</td>\n",
       "      <td>0</td>\n",
       "      <td>90027.0</td>\n",
       "      <td>34.125946</td>\n",
       "      <td>-118.291016</td>\n",
       "      <td>Townsville</td>\n",
       "      <td>Australia</td>\n",
       "      <td>1</td>\n",
       "      <td>327.750000</td>\n",
       "      <td>Queensland</td>\n",
       "      <td>327.750000</td>\n",
       "      <td>Standard Class</td>\n",
       "    </tr>\n",
       "    <tr>\n",
       "      <th>4</th>\n",
       "      <td>PAYMENT</td>\n",
       "      <td>4</td>\n",
       "      <td>0</td>\n",
       "      <td>725.0</td>\n",
       "      <td>18.253769</td>\n",
       "      <td>-66.037048</td>\n",
       "      <td>Townsville</td>\n",
       "      <td>Australia</td>\n",
       "      <td>1</td>\n",
       "      <td>327.750000</td>\n",
       "      <td>Queensland</td>\n",
       "      <td>327.750000</td>\n",
       "      <td>Standard Class</td>\n",
       "    </tr>\n",
       "    <tr>\n",
       "      <th>...</th>\n",
       "      <td>...</td>\n",
       "      <td>...</td>\n",
       "      <td>...</td>\n",
       "      <td>...</td>\n",
       "      <td>...</td>\n",
       "      <td>...</td>\n",
       "      <td>...</td>\n",
       "      <td>...</td>\n",
       "      <td>...</td>\n",
       "      <td>...</td>\n",
       "      <td>...</td>\n",
       "      <td>...</td>\n",
       "      <td>...</td>\n",
       "    </tr>\n",
       "    <tr>\n",
       "      <th>180514</th>\n",
       "      <td>CASH</td>\n",
       "      <td>4</td>\n",
       "      <td>0</td>\n",
       "      <td>11207.0</td>\n",
       "      <td>40.640930</td>\n",
       "      <td>-73.942711</td>\n",
       "      <td>Shanghái</td>\n",
       "      <td>China</td>\n",
       "      <td>1</td>\n",
       "      <td>399.980011</td>\n",
       "      <td>Shanghái</td>\n",
       "      <td>399.980011</td>\n",
       "      <td>Standard Class</td>\n",
       "    </tr>\n",
       "    <tr>\n",
       "      <th>180515</th>\n",
       "      <td>DEBIT</td>\n",
       "      <td>2</td>\n",
       "      <td>1</td>\n",
       "      <td>93304.0</td>\n",
       "      <td>35.362545</td>\n",
       "      <td>-119.018700</td>\n",
       "      <td>Hirakata</td>\n",
       "      <td>Japón</td>\n",
       "      <td>1</td>\n",
       "      <td>399.980011</td>\n",
       "      <td>Osaka</td>\n",
       "      <td>399.980011</td>\n",
       "      <td>Second Class</td>\n",
       "    </tr>\n",
       "    <tr>\n",
       "      <th>180516</th>\n",
       "      <td>TRANSFER</td>\n",
       "      <td>4</td>\n",
       "      <td>1</td>\n",
       "      <td>6010.0</td>\n",
       "      <td>41.629959</td>\n",
       "      <td>-72.967155</td>\n",
       "      <td>Adelaide</td>\n",
       "      <td>Australia</td>\n",
       "      <td>1</td>\n",
       "      <td>399.980011</td>\n",
       "      <td>Australia del Sur</td>\n",
       "      <td>399.980011</td>\n",
       "      <td>Standard Class</td>\n",
       "    </tr>\n",
       "    <tr>\n",
       "      <th>180517</th>\n",
       "      <td>PAYMENT</td>\n",
       "      <td>4</td>\n",
       "      <td>0</td>\n",
       "      <td>725.0</td>\n",
       "      <td>18.213350</td>\n",
       "      <td>-66.370575</td>\n",
       "      <td>Adelaide</td>\n",
       "      <td>Australia</td>\n",
       "      <td>1</td>\n",
       "      <td>399.980011</td>\n",
       "      <td>Australia del Sur</td>\n",
       "      <td>399.980011</td>\n",
       "      <td>Standard Class</td>\n",
       "    </tr>\n",
       "    <tr>\n",
       "      <th>180518</th>\n",
       "      <td>PAYMENT</td>\n",
       "      <td>4</td>\n",
       "      <td>0</td>\n",
       "      <td>725.0</td>\n",
       "      <td>18.290380</td>\n",
       "      <td>-66.370613</td>\n",
       "      <td>Nagercoil</td>\n",
       "      <td>India</td>\n",
       "      <td>1</td>\n",
       "      <td>399.980011</td>\n",
       "      <td>Tamil Nadu</td>\n",
       "      <td>399.980011</td>\n",
       "      <td>Standard Class</td>\n",
       "    </tr>\n",
       "  </tbody>\n",
       "</table>\n",
       "<p>180519 rows × 13 columns</p>\n",
       "</div>"
      ],
      "text/plain": [
       "            Type  Days for shipment (scheduled)  Late_delivery_risk  \\\n",
       "0          DEBIT                              4                   0   \n",
       "1       TRANSFER                              4                   1   \n",
       "2           CASH                              4                   0   \n",
       "3          DEBIT                              4                   0   \n",
       "4        PAYMENT                              4                   0   \n",
       "...          ...                            ...                 ...   \n",
       "180514      CASH                              4                   0   \n",
       "180515     DEBIT                              2                   1   \n",
       "180516  TRANSFER                              4                   1   \n",
       "180517   PAYMENT                              4                   0   \n",
       "180518   PAYMENT                              4                   0   \n",
       "\n",
       "        Customer Zipcode   Latitude   Longitude  Order City Order Country  \\\n",
       "0                  725.0  18.251453  -66.037056      Bekasi     Indonesia   \n",
       "1                  725.0  18.279451  -66.037064     Bikaner         India   \n",
       "2                95125.0  37.292233 -121.881279     Bikaner         India   \n",
       "3                90027.0  34.125946 -118.291016  Townsville     Australia   \n",
       "4                  725.0  18.253769  -66.037048  Townsville     Australia   \n",
       "...                  ...        ...         ...         ...           ...   \n",
       "180514           11207.0  40.640930  -73.942711    Shanghái         China   \n",
       "180515           93304.0  35.362545 -119.018700    Hirakata         Japón   \n",
       "180516            6010.0  41.629959  -72.967155    Adelaide     Australia   \n",
       "180517             725.0  18.213350  -66.370575    Adelaide     Australia   \n",
       "180518             725.0  18.290380  -66.370613   Nagercoil         India   \n",
       "\n",
       "        Order Item Quantity       Sales        Order State  Product Price  \\\n",
       "0                         1  327.750000    Java Occidental     327.750000   \n",
       "1                         1  327.750000           Rajastán     327.750000   \n",
       "2                         1  327.750000           Rajastán     327.750000   \n",
       "3                         1  327.750000         Queensland     327.750000   \n",
       "4                         1  327.750000         Queensland     327.750000   \n",
       "...                     ...         ...                ...            ...   \n",
       "180514                    1  399.980011           Shanghái     399.980011   \n",
       "180515                    1  399.980011              Osaka     399.980011   \n",
       "180516                    1  399.980011  Australia del Sur     399.980011   \n",
       "180517                    1  399.980011  Australia del Sur     399.980011   \n",
       "180518                    1  399.980011         Tamil Nadu     399.980011   \n",
       "\n",
       "         Shipping Mode  \n",
       "0       Standard Class  \n",
       "1       Standard Class  \n",
       "2       Standard Class  \n",
       "3       Standard Class  \n",
       "4       Standard Class  \n",
       "...                ...  \n",
       "180514  Standard Class  \n",
       "180515    Second Class  \n",
       "180516  Standard Class  \n",
       "180517  Standard Class  \n",
       "180518  Standard Class  \n",
       "\n",
       "[180519 rows x 13 columns]"
      ]
     },
     "execution_count": 32,
     "metadata": {},
     "output_type": "execute_result"
    }
   ],
   "source": [
    "df_supply"
   ]
  },
  {
   "cell_type": "code",
   "execution_count": 34,
   "metadata": {},
   "outputs": [
    {
     "data": {
      "text/plain": [
       "array(['Standard Class', 'First Class', 'Second Class', 'Same Day'],\n",
       "      dtype=object)"
      ]
     },
     "execution_count": 34,
     "metadata": {},
     "output_type": "execute_result"
    }
   ],
   "source": [
    "df_supply['Shipping Mode'].unique()"
   ]
  },
  {
   "cell_type": "code",
   "execution_count": null,
   "metadata": {},
   "outputs": [],
   "source": []
  },
  {
   "cell_type": "code",
   "execution_count": 12,
   "metadata": {
    "cell_id": "431b9de570084157871701424c092f8d",
    "colab": {
     "base_uri": "https://localhost:8080/"
    },
    "deepnote_app_block_visible": true,
    "deepnote_cell_type": "code",
    "deepnote_to_be_reexecuted": false,
    "executionInfo": {
     "elapsed": 14,
     "status": "ok",
     "timestamp": 1712807464859,
     "user": {
      "displayName": "Kedar Prabhune",
      "userId": "00885728590805896569"
     },
     "user_tz": 420
    },
    "execution_millis": 261,
    "execution_start": 1713074189046,
    "id": "oHRO1n1g2KWd",
    "outputId": "e11e5e0d-c6b5-441b-ae3f-2e7a5cc1cf2e",
    "source_hash": null
   },
   "outputs": [
    {
     "name": "stdout",
     "output_type": "stream",
     "text": [
      "<class 'pandas.core.frame.DataFrame'>\n",
      "RangeIndex: 180519 entries, 0 to 180518\n",
      "Data columns (total 13 columns):\n",
      " #   Column                         Non-Null Count   Dtype  \n",
      "---  ------                         --------------   -----  \n",
      " 0   Type                           180519 non-null  object \n",
      " 1   Days for shipment (scheduled)  180519 non-null  int64  \n",
      " 2   Late_delivery_risk             180519 non-null  int64  \n",
      " 3   Customer Zipcode               180516 non-null  float64\n",
      " 4   Latitude                       180519 non-null  float64\n",
      " 5   Longitude                      180519 non-null  float64\n",
      " 6   Order City                     180519 non-null  object \n",
      " 7   Order Country                  180519 non-null  object \n",
      " 8   Order Item Quantity            180519 non-null  int64  \n",
      " 9   Sales                          180519 non-null  float64\n",
      " 10  Order State                    180519 non-null  object \n",
      " 11  Product Price                  180519 non-null  float64\n",
      " 12  Shipping Mode                  180519 non-null  object \n",
      "dtypes: float64(5), int64(3), object(5)\n",
      "memory usage: 17.9+ MB\n"
     ]
    }
   ],
   "source": [
    "df_supply.info()"
   ]
  },
  {
   "cell_type": "code",
   "execution_count": 13,
   "metadata": {
    "cell_id": "25dca99f26724ba99cd6c2963a1ffb8f",
    "deepnote_app_block_visible": true,
    "deepnote_cell_type": "code",
    "deepnote_to_be_reexecuted": false,
    "executionInfo": {
     "elapsed": 11,
     "status": "ok",
     "timestamp": 1712807464860,
     "user": {
      "displayName": "Kedar Prabhune",
      "userId": "00885728590805896569"
     },
     "user_tz": 420
    },
    "execution_millis": 38,
    "execution_start": 1713074190411,
    "id": "8jqQf6T1cb8s",
    "source_hash": null
   },
   "outputs": [],
   "source": [
    "le= LabelEncoder()"
   ]
  },
  {
   "cell_type": "code",
   "execution_count": 14,
   "metadata": {
    "cell_id": "36cc2ff8ba3a46bb8b752cbb4f4068fe",
    "deepnote_app_block_visible": true,
    "deepnote_cell_type": "code",
    "deepnote_to_be_reexecuted": false,
    "executionInfo": {
     "elapsed": 233,
     "status": "ok",
     "timestamp": 1712807465082,
     "user": {
      "displayName": "Kedar Prabhune",
      "userId": "00885728590805896569"
     },
     "user_tz": 420
    },
    "execution_millis": 58,
    "execution_start": 1713074192607,
    "id": "bqKzo0nfdhkE",
    "source_hash": null
   },
   "outputs": [],
   "source": [
    "df_supply['Order Country']= le.fit_transform(df_supply['Order Country'])"
   ]
  },
  {
   "cell_type": "code",
   "execution_count": 15,
   "metadata": {
    "cell_id": "473e998239964d40bc48f2f0e87b2e7b",
    "deepnote_app_block_visible": true,
    "deepnote_cell_type": "code",
    "deepnote_to_be_reexecuted": false,
    "executionInfo": {
     "elapsed": 233,
     "status": "ok",
     "timestamp": 1712807465082,
     "user": {
      "displayName": "Kedar Prabhune",
      "userId": "00885728590805896569"
     },
     "user_tz": 420
    },
    "execution_millis": 67,
    "execution_start": 1713074193905,
    "id": "Fmnk2bSXkq1Y",
    "source_hash": null
   },
   "outputs": [],
   "source": [
    "df_supply['Order City']= le.fit_transform(df_supply['Order City'])"
   ]
  },
  {
   "cell_type": "code",
   "execution_count": 16,
   "metadata": {
    "cell_id": "75543ee43f994246a8e0f2e6289b7450",
    "deepnote_app_block_visible": true,
    "deepnote_cell_type": "code",
    "deepnote_to_be_reexecuted": false,
    "executionInfo": {
     "elapsed": 18,
     "status": "ok",
     "timestamp": 1712807465083,
     "user": {
      "displayName": "Kedar Prabhune",
      "userId": "00885728590805896569"
     },
     "user_tz": 420
    },
    "execution_millis": 49,
    "execution_start": 1713074195229,
    "id": "1c3soihXmHaP",
    "source_hash": null
   },
   "outputs": [],
   "source": [
    "df_supply['Order State']= le.fit_transform(df_supply['Order State'])"
   ]
  },
  {
   "cell_type": "code",
   "execution_count": 17,
   "metadata": {
    "cell_id": "b0468819fba84461bd25f26921f291a6",
    "colab": {
     "base_uri": "https://localhost:8080/",
     "height": 652
    },
    "deepnote_app_block_visible": true,
    "deepnote_cell_type": "code",
    "deepnote_to_be_reexecuted": false,
    "executionInfo": {
     "elapsed": 17,
     "status": "ok",
     "timestamp": 1712807465083,
     "user": {
      "displayName": "Kedar Prabhune",
      "userId": "00885728590805896569"
     },
     "user_tz": 420
    },
    "execution_millis": 205,
    "execution_start": 1713074197801,
    "id": "M7mFQOYKegmy",
    "outputId": "4cc4a10f-9344-4063-ed11-dd71c4db1356",
    "source_hash": null
   },
   "outputs": [
    {
     "data": {
      "text/html": [
       "<div>\n",
       "<style scoped>\n",
       "    .dataframe tbody tr th:only-of-type {\n",
       "        vertical-align: middle;\n",
       "    }\n",
       "\n",
       "    .dataframe tbody tr th {\n",
       "        vertical-align: top;\n",
       "    }\n",
       "\n",
       "    .dataframe thead th {\n",
       "        text-align: right;\n",
       "    }\n",
       "</style>\n",
       "<table border=\"1\" class=\"dataframe\">\n",
       "  <thead>\n",
       "    <tr style=\"text-align: right;\">\n",
       "      <th></th>\n",
       "      <th>Type</th>\n",
       "      <th>Days for shipment (scheduled)</th>\n",
       "      <th>Late_delivery_risk</th>\n",
       "      <th>Customer Zipcode</th>\n",
       "      <th>Latitude</th>\n",
       "      <th>Longitude</th>\n",
       "      <th>Order City</th>\n",
       "      <th>Order Country</th>\n",
       "      <th>Order Item Quantity</th>\n",
       "      <th>Sales</th>\n",
       "      <th>Order State</th>\n",
       "      <th>Product Price</th>\n",
       "      <th>Shipping Mode</th>\n",
       "    </tr>\n",
       "  </thead>\n",
       "  <tbody>\n",
       "    <tr>\n",
       "      <th>0</th>\n",
       "      <td>DEBIT</td>\n",
       "      <td>4</td>\n",
       "      <td>0</td>\n",
       "      <td>725.0</td>\n",
       "      <td>18.251453</td>\n",
       "      <td>-66.037056</td>\n",
       "      <td>331</td>\n",
       "      <td>70</td>\n",
       "      <td>1</td>\n",
       "      <td>327.750000</td>\n",
       "      <td>475</td>\n",
       "      <td>327.750000</td>\n",
       "      <td>Standard Class</td>\n",
       "    </tr>\n",
       "    <tr>\n",
       "      <th>1</th>\n",
       "      <td>TRANSFER</td>\n",
       "      <td>4</td>\n",
       "      <td>1</td>\n",
       "      <td>725.0</td>\n",
       "      <td>18.279451</td>\n",
       "      <td>-66.037064</td>\n",
       "      <td>391</td>\n",
       "      <td>69</td>\n",
       "      <td>1</td>\n",
       "      <td>327.750000</td>\n",
       "      <td>841</td>\n",
       "      <td>327.750000</td>\n",
       "      <td>Standard Class</td>\n",
       "    </tr>\n",
       "    <tr>\n",
       "      <th>2</th>\n",
       "      <td>CASH</td>\n",
       "      <td>4</td>\n",
       "      <td>0</td>\n",
       "      <td>95125.0</td>\n",
       "      <td>37.292233</td>\n",
       "      <td>-121.881279</td>\n",
       "      <td>391</td>\n",
       "      <td>69</td>\n",
       "      <td>1</td>\n",
       "      <td>327.750000</td>\n",
       "      <td>841</td>\n",
       "      <td>327.750000</td>\n",
       "      <td>Standard Class</td>\n",
       "    </tr>\n",
       "    <tr>\n",
       "      <th>3</th>\n",
       "      <td>DEBIT</td>\n",
       "      <td>4</td>\n",
       "      <td>0</td>\n",
       "      <td>90027.0</td>\n",
       "      <td>34.125946</td>\n",
       "      <td>-118.291016</td>\n",
       "      <td>3226</td>\n",
       "      <td>8</td>\n",
       "      <td>1</td>\n",
       "      <td>327.750000</td>\n",
       "      <td>835</td>\n",
       "      <td>327.750000</td>\n",
       "      <td>Standard Class</td>\n",
       "    </tr>\n",
       "    <tr>\n",
       "      <th>4</th>\n",
       "      <td>PAYMENT</td>\n",
       "      <td>4</td>\n",
       "      <td>0</td>\n",
       "      <td>725.0</td>\n",
       "      <td>18.253769</td>\n",
       "      <td>-66.037048</td>\n",
       "      <td>3226</td>\n",
       "      <td>8</td>\n",
       "      <td>1</td>\n",
       "      <td>327.750000</td>\n",
       "      <td>835</td>\n",
       "      <td>327.750000</td>\n",
       "      <td>Standard Class</td>\n",
       "    </tr>\n",
       "    <tr>\n",
       "      <th>...</th>\n",
       "      <td>...</td>\n",
       "      <td>...</td>\n",
       "      <td>...</td>\n",
       "      <td>...</td>\n",
       "      <td>...</td>\n",
       "      <td>...</td>\n",
       "      <td>...</td>\n",
       "      <td>...</td>\n",
       "      <td>...</td>\n",
       "      <td>...</td>\n",
       "      <td>...</td>\n",
       "      <td>...</td>\n",
       "      <td>...</td>\n",
       "    </tr>\n",
       "    <tr>\n",
       "      <th>180514</th>\n",
       "      <td>CASH</td>\n",
       "      <td>4</td>\n",
       "      <td>0</td>\n",
       "      <td>11207.0</td>\n",
       "      <td>40.640930</td>\n",
       "      <td>-73.942711</td>\n",
       "      <td>2922</td>\n",
       "      <td>31</td>\n",
       "      <td>1</td>\n",
       "      <td>399.980011</td>\n",
       "      <td>913</td>\n",
       "      <td>399.980011</td>\n",
       "      <td>Standard Class</td>\n",
       "    </tr>\n",
       "    <tr>\n",
       "      <th>180515</th>\n",
       "      <td>DEBIT</td>\n",
       "      <td>2</td>\n",
       "      <td>1</td>\n",
       "      <td>93304.0</td>\n",
       "      <td>35.362545</td>\n",
       "      <td>-119.018700</td>\n",
       "      <td>1362</td>\n",
       "      <td>77</td>\n",
       "      <td>1</td>\n",
       "      <td>399.980011</td>\n",
       "      <td>770</td>\n",
       "      <td>399.980011</td>\n",
       "      <td>Second Class</td>\n",
       "    </tr>\n",
       "    <tr>\n",
       "      <th>180516</th>\n",
       "      <td>TRANSFER</td>\n",
       "      <td>4</td>\n",
       "      <td>1</td>\n",
       "      <td>6010.0</td>\n",
       "      <td>41.629959</td>\n",
       "      <td>-72.967155</td>\n",
       "      <td>25</td>\n",
       "      <td>8</td>\n",
       "      <td>1</td>\n",
       "      <td>399.980011</td>\n",
       "      <td>88</td>\n",
       "      <td>399.980011</td>\n",
       "      <td>Standard Class</td>\n",
       "    </tr>\n",
       "    <tr>\n",
       "      <th>180517</th>\n",
       "      <td>PAYMENT</td>\n",
       "      <td>4</td>\n",
       "      <td>0</td>\n",
       "      <td>725.0</td>\n",
       "      <td>18.213350</td>\n",
       "      <td>-66.370575</td>\n",
       "      <td>25</td>\n",
       "      <td>8</td>\n",
       "      <td>1</td>\n",
       "      <td>399.980011</td>\n",
       "      <td>88</td>\n",
       "      <td>399.980011</td>\n",
       "      <td>Standard Class</td>\n",
       "    </tr>\n",
       "    <tr>\n",
       "      <th>180518</th>\n",
       "      <td>PAYMENT</td>\n",
       "      <td>4</td>\n",
       "      <td>0</td>\n",
       "      <td>725.0</td>\n",
       "      <td>18.290380</td>\n",
       "      <td>-66.370613</td>\n",
       "      <td>2203</td>\n",
       "      <td>69</td>\n",
       "      <td>1</td>\n",
       "      <td>399.980011</td>\n",
       "      <td>967</td>\n",
       "      <td>399.980011</td>\n",
       "      <td>Standard Class</td>\n",
       "    </tr>\n",
       "  </tbody>\n",
       "</table>\n",
       "<p>180519 rows × 13 columns</p>\n",
       "</div>"
      ],
      "text/plain": [
       "            Type  Days for shipment (scheduled)  Late_delivery_risk  \\\n",
       "0          DEBIT                              4                   0   \n",
       "1       TRANSFER                              4                   1   \n",
       "2           CASH                              4                   0   \n",
       "3          DEBIT                              4                   0   \n",
       "4        PAYMENT                              4                   0   \n",
       "...          ...                            ...                 ...   \n",
       "180514      CASH                              4                   0   \n",
       "180515     DEBIT                              2                   1   \n",
       "180516  TRANSFER                              4                   1   \n",
       "180517   PAYMENT                              4                   0   \n",
       "180518   PAYMENT                              4                   0   \n",
       "\n",
       "        Customer Zipcode   Latitude   Longitude  Order City  Order Country  \\\n",
       "0                  725.0  18.251453  -66.037056         331             70   \n",
       "1                  725.0  18.279451  -66.037064         391             69   \n",
       "2                95125.0  37.292233 -121.881279         391             69   \n",
       "3                90027.0  34.125946 -118.291016        3226              8   \n",
       "4                  725.0  18.253769  -66.037048        3226              8   \n",
       "...                  ...        ...         ...         ...            ...   \n",
       "180514           11207.0  40.640930  -73.942711        2922             31   \n",
       "180515           93304.0  35.362545 -119.018700        1362             77   \n",
       "180516            6010.0  41.629959  -72.967155          25              8   \n",
       "180517             725.0  18.213350  -66.370575          25              8   \n",
       "180518             725.0  18.290380  -66.370613        2203             69   \n",
       "\n",
       "        Order Item Quantity       Sales  Order State  Product Price  \\\n",
       "0                         1  327.750000          475     327.750000   \n",
       "1                         1  327.750000          841     327.750000   \n",
       "2                         1  327.750000          841     327.750000   \n",
       "3                         1  327.750000          835     327.750000   \n",
       "4                         1  327.750000          835     327.750000   \n",
       "...                     ...         ...          ...            ...   \n",
       "180514                    1  399.980011          913     399.980011   \n",
       "180515                    1  399.980011          770     399.980011   \n",
       "180516                    1  399.980011           88     399.980011   \n",
       "180517                    1  399.980011           88     399.980011   \n",
       "180518                    1  399.980011          967     399.980011   \n",
       "\n",
       "         Shipping Mode  \n",
       "0       Standard Class  \n",
       "1       Standard Class  \n",
       "2       Standard Class  \n",
       "3       Standard Class  \n",
       "4       Standard Class  \n",
       "...                ...  \n",
       "180514  Standard Class  \n",
       "180515    Second Class  \n",
       "180516  Standard Class  \n",
       "180517  Standard Class  \n",
       "180518  Standard Class  \n",
       "\n",
       "[180519 rows x 13 columns]"
      ]
     },
     "execution_count": 17,
     "metadata": {},
     "output_type": "execute_result"
    }
   ],
   "source": [
    "df_supply"
   ]
  },
  {
   "cell_type": "code",
   "execution_count": 18,
   "metadata": {
    "cell_id": "08d8b593cc304112938f1e8658a4c801",
    "colab": {
     "base_uri": "https://localhost:8080/",
     "height": 478
    },
    "deepnote_app_block_visible": true,
    "deepnote_cell_type": "code",
    "deepnote_to_be_reexecuted": false,
    "executionInfo": {
     "elapsed": 15,
     "status": "ok",
     "timestamp": 1712807465271,
     "user": {
      "displayName": "Kedar Prabhune",
      "userId": "00885728590805896569"
     },
     "user_tz": 420
    },
    "execution_millis": 92,
    "execution_start": 1713074201102,
    "id": "zwRcG9WImmWV",
    "outputId": "4d1525c0-7da1-47eb-b323-a5241237eb39",
    "source_hash": null
   },
   "outputs": [
    {
     "data": {
      "text/plain": [
       "Type                             0\n",
       "Days for shipment (scheduled)    0\n",
       "Late_delivery_risk               0\n",
       "Customer Zipcode                 3\n",
       "Latitude                         0\n",
       "Longitude                        0\n",
       "Order City                       0\n",
       "Order Country                    0\n",
       "Order Item Quantity              0\n",
       "Sales                            0\n",
       "Order State                      0\n",
       "Product Price                    0\n",
       "Shipping Mode                    0\n",
       "dtype: int64"
      ]
     },
     "execution_count": 18,
     "metadata": {},
     "output_type": "execute_result"
    }
   ],
   "source": [
    "df_supply.isnull().sum()"
   ]
  },
  {
   "cell_type": "code",
   "execution_count": 19,
   "metadata": {
    "cell_id": "8d001eaf044740129f8800c864953f6b",
    "deepnote_app_block_visible": true,
    "deepnote_cell_type": "code",
    "deepnote_to_be_reexecuted": false,
    "execution_millis": 86,
    "execution_start": 1713074202613,
    "source_hash": null
   },
   "outputs": [],
   "source": [
    "df_supply= df_supply.dropna()"
   ]
  },
  {
   "cell_type": "code",
   "execution_count": 20,
   "metadata": {
    "allow_embed": false,
    "cell_id": "d2f62be23b5c43edabda5a807ca46b27",
    "colab": {
     "base_uri": "https://localhost:8080/",
     "height": 478
    },
    "deepnote_app_block_visible": true,
    "deepnote_cell_type": "code",
    "deepnote_to_be_reexecuted": false,
    "executionInfo": {
     "elapsed": 15,
     "status": "ok",
     "timestamp": 1712807465271,
     "user": {
      "displayName": "Kedar Prabhune",
      "userId": "00885728590805896569"
     },
     "user_tz": 420
    },
    "execution_millis": 36,
    "execution_start": 1713074204775,
    "id": "zwRcG9WImmWV",
    "outputId": "4d1525c0-7da1-47eb-b323-a5241237eb39",
    "source_hash": null
   },
   "outputs": [
    {
     "data": {
      "text/plain": [
       "Type                             0\n",
       "Days for shipment (scheduled)    0\n",
       "Late_delivery_risk               0\n",
       "Customer Zipcode                 0\n",
       "Latitude                         0\n",
       "Longitude                        0\n",
       "Order City                       0\n",
       "Order Country                    0\n",
       "Order Item Quantity              0\n",
       "Sales                            0\n",
       "Order State                      0\n",
       "Product Price                    0\n",
       "Shipping Mode                    0\n",
       "dtype: int64"
      ]
     },
     "execution_count": 20,
     "metadata": {},
     "output_type": "execute_result"
    }
   ],
   "source": [
    "df_supply.isnull().sum()"
   ]
  },
  {
   "cell_type": "code",
   "execution_count": 21,
   "metadata": {
    "cell_id": "ae017dbbe3af46ed97e48359a2b86048",
    "deepnote_app_block_visible": true,
    "deepnote_cell_type": "code",
    "deepnote_to_be_reexecuted": false,
    "executionInfo": {
     "elapsed": 15,
     "status": "ok",
     "timestamp": 1712807465270,
     "user": {
      "displayName": "Kedar Prabhune",
      "userId": "00885728590805896569"
     },
     "user_tz": 420
    },
    "execution_millis": 105,
    "execution_start": 1713074209717,
    "id": "c-8PManp4WYC",
    "source_hash": null
   },
   "outputs": [],
   "source": [
    "df_supply= pd.get_dummies(df_supply)"
   ]
  },
  {
   "cell_type": "code",
   "execution_count": null,
   "metadata": {
    "cell_id": "5955378d5fe44afdb4fb0a16ecd0fb1b",
    "deepnote_app_block_visible": true,
    "deepnote_cell_type": "code",
    "deepnote_to_be_reexecuted": false,
    "executionInfo": {
     "elapsed": 12641,
     "status": "ok",
     "timestamp": 1712807477903,
     "user": {
      "displayName": "Kedar Prabhune",
      "userId": "00885728590805896569"
     },
     "user_tz": 420
    },
    "execution_millis": 54,
    "execution_start": 1713074213893,
    "id": "_yiDD4Cn5YvS",
    "source_hash": null
   },
   "outputs": [],
   "source": [
    "X= df_supply.drop('Late_delivery_risk', axis=1)\n",
    "y= df_supply['Late_delivery_risk']\n",
    "\n",
    "X_train, X_test, y_train, y_test= train_test_split(X, y, test_size=0.2, random_state=42)"
   ]
  },
  {
   "cell_type": "markdown",
   "metadata": {
    "cell_id": "60ff53e3d91b454db4b1ebb8c76f57c8",
    "deepnote_app_block_visible": true,
    "deepnote_cell_type": "text-cell-h1",
    "formattedRanges": []
   },
   "source": [
    "# Gradient Boosting"
   ]
  },
  {
   "cell_type": "code",
   "execution_count": null,
   "metadata": {
    "cell_id": "e5f1711f45514af4bf059ea8aa0e35c7",
    "deepnote_app_block_visible": true,
    "deepnote_cell_type": "code",
    "deepnote_to_be_reexecuted": false,
    "execution_millis": 1331330,
    "execution_start": 1713052667509,
    "source_hash": null
   },
   "outputs": [
    {
     "name": "stdout",
     "output_type": "stream",
     "text": [
      "Model 1 Hyperparameters: {'n_estimators': 100, 'learning_rate': 0.1, 'max_depth': 3}\n",
      "Cross-Validation Scores: [0.69845446 0.69179847 0.69653491 0.69789214 0.70268399]\n",
      "Mean Accuracy: 0.6975\n",
      "\n",
      "Model 2 Hyperparameters: {'n_estimators': 200, 'learning_rate': 0.05, 'max_depth': 5}\n",
      "Cross-Validation Scores: [0.70324618 0.69805833 0.70232391 0.70398582 0.70703266]\n",
      "Mean Accuracy: 0.7029\n",
      "\n",
      "Model 3 Hyperparameters: {'n_estimators': 300, 'learning_rate': 0.01, 'max_depth': 7}\n",
      "Cross-Validation Scores: [0.70709617 0.70027422 0.70553694 0.70592472 0.71063347]\n",
      "Mean Accuracy: 0.7059\n",
      "\n"
     ]
    }
   ],
   "source": [
    "from sklearn.model_selection import KFold, cross_val_score\n",
    "from sklearn.ensemble import GradientBoostingClassifier\n",
    "\n",
    "# Assuming X contains features and y contains the target variable\n",
    "\n",
    "# Define different sets of hyperparameters\n",
    "param_sets = [\n",
    "    {'n_estimators': 100, 'learning_rate': 0.1, 'max_depth': 3},\n",
    "    {'n_estimators': 200, 'learning_rate': 0.05, 'max_depth': 5},\n",
    "    {'n_estimators': 300, 'learning_rate': 0.01, 'max_depth': 7}\n",
    "]\n",
    "\n",
    "# Perform k-fold cross-validation for each set of hyperparameters\n",
    "for i, params in enumerate(param_sets, start=1):\n",
    "    print(f\"Model {i} Hyperparameters: {params}\")\n",
    "    \n",
    "    # Initialize the Gradient Boosting classifier with the current set of hyperparameters\n",
    "    gb_classifier = GradientBoostingClassifier(**params, random_state=42)\n",
    "    \n",
    "    # Perform k-fold cross-validation with k=5\n",
    "    kfold = KFold(n_splits=5, shuffle=True, random_state=42)\n",
    "    cv_scores = cross_val_score(gb_classifier, X, y, cv=kfold, scoring='accuracy')\n",
    "    \n",
    "    # Print the cross-validation scores\n",
    "    print(f\"Cross-Validation Scores: {cv_scores}\")\n",
    "    print(f\"Mean Accuracy: {cv_scores.mean():.4f}\\n\")"
   ]
  },
  {
   "cell_type": "code",
   "execution_count": null,
   "metadata": {
    "cell_id": "1146b4fd375e4c4fbdf03a90d2e73405",
    "colab": {
     "base_uri": "https://localhost:8080/"
    },
    "deepnote_app_block_visible": true,
    "deepnote_cell_type": "code",
    "deepnote_to_be_reexecuted": false,
    "executionInfo": {
     "elapsed": 34901,
     "status": "ok",
     "timestamp": 1712807746018,
     "user": {
      "displayName": "Kedar Prabhune",
      "userId": "00885728590805896569"
     },
     "user_tz": 420
    },
    "execution_millis": 176837,
    "execution_start": 1713074220293,
    "id": "52clD-27xZ7F",
    "outputId": "87726cb0-2f45-4348-8214-3c304de03361",
    "source_hash": null
   },
   "outputs": [
    {
     "name": "stdout",
     "output_type": "stream",
     "text": [
      "Accuracy: 0.7070961666297363\n",
      "Confusion Matrix:\n",
      " [[14211  2091]\n",
      " [ 8484 11318]]\n",
      "Classification Report:\n",
      "               precision    recall  f1-score   support\n",
      "\n",
      "           0       0.63      0.87      0.73     16302\n",
      "           1       0.84      0.57      0.68     19802\n",
      "\n",
      "    accuracy                           0.71     36104\n",
      "   macro avg       0.74      0.72      0.71     36104\n",
      "weighted avg       0.75      0.71      0.70     36104\n",
      "\n"
     ]
    }
   ],
   "source": [
    "from sklearn.ensemble import GradientBoostingClassifier\n",
    "gbm_model = GradientBoostingClassifier(n_estimators= 300, learning_rate= 0.01, max_depth= 7)\n",
    "\n",
    "# Train the Gradient Boosting model\n",
    "gbm_model.fit(X_train, y_train)\n",
    "\n",
    "# Predictions on the test set\n",
    "y_pred = gbm_model.predict(X_test)\n",
    "\n",
    "# Evaluate the model\n",
    "accuracy_gbm = accuracy_score(y_test, y_pred)\n",
    "conf_matrix_gbm = confusion_matrix(y_test, y_pred)\n",
    "class_report_gbm = classification_report(y_test, y_pred)\n",
    "\n",
    "print(\"Accuracy:\", accuracy_gbm)\n",
    "print(\"Confusion Matrix:\\n\", conf_matrix_gbm)\n",
    "print(\"Classification Report:\\n\", class_report_gbm)"
   ]
  },
  {
   "cell_type": "markdown",
   "metadata": {
    "cell_id": "3212a4b325e04864b154f8d084336c1c",
    "deepnote_app_block_visible": true,
    "deepnote_cell_type": "text-cell-h1",
    "formattedRanges": []
   },
   "source": [
    "# Random Forest"
   ]
  },
  {
   "cell_type": "code",
   "execution_count": null,
   "metadata": {
    "cell_id": "110889182aed4566ac14f4a356006ebe",
    "colab": {
     "base_uri": "https://localhost:8080/",
     "height": 356
    },
    "deepnote_app_block_visible": true,
    "deepnote_cell_type": "code",
    "deepnote_to_be_reexecuted": false,
    "executionInfo": {
     "elapsed": 123384,
     "status": "error",
     "timestamp": 1712822997033,
     "user": {
      "displayName": "Kedar Prabhune",
      "userId": "00885728590805896569"
     },
     "user_tz": 420
    },
    "execution_millis": 608760,
    "execution_start": 1713051365898,
    "id": "epHjGTEcMGqp",
    "outputId": "93042347-1828-41bb-cb62-a74172f3740d",
    "source_hash": null
   },
   "outputs": [
    {
     "name": "stdout",
     "output_type": "stream",
     "text": [
      "Model 1 Hyperparameters: {'n_estimators': 100, 'max_depth': None}\n",
      "Cross-Validation Scores: [0.85154    0.85449963 0.85890369 0.85713099 0.85740797]\n",
      "Mean Accuracy: 0.8559\n",
      "\n",
      "Model 2 Hyperparameters: {'n_estimators': 200, 'max_depth': 10}\n",
      "Cross-Validation Scores: [0.70440948 0.69819683 0.70285018 0.70451209 0.70952552]\n",
      "Mean Accuracy: 0.7039\n",
      "\n",
      "Model 3 Hyperparameters: {'n_estimators': 300, 'max_depth': 20}\n",
      "Cross-Validation Scores: [0.76016508 0.75101792 0.76068471 0.76121098 0.76198654]\n",
      "Mean Accuracy: 0.7590\n",
      "\n"
     ]
    }
   ],
   "source": [
    "from sklearn.model_selection import KFold, cross_val_score\n",
    "from sklearn.ensemble import RandomForestClassifier\n",
    "\n",
    "# Assuming X contains features and y contains the target variable\n",
    "\n",
    "# Define different sets of hyperparameters\n",
    "param_sets = [\n",
    "    {'n_estimators': 100, 'max_depth': None},\n",
    "    {'n_estimators': 200, 'max_depth': 10},\n",
    "    {'n_estimators': 300, 'max_depth': 20}\n",
    "]\n",
    "\n",
    "# Perform k-fold cross-validation for each set of hyperparameters\n",
    "for i, params in enumerate(param_sets, start=1):\n",
    "    print(f\"Model {i} Hyperparameters: {params}\")\n",
    "    \n",
    "    # Initialize the Random Forest classifier with the current set of hyperparameters\n",
    "    rf_classifier = RandomForestClassifier(**params, random_state=42)\n",
    "    \n",
    "    # Perform k-fold cross-validation with k=5\n",
    "    kfold = KFold(n_splits=5, shuffle=True, random_state=42)\n",
    "    cv_scores = cross_val_score(rf_classifier, X, y, cv=kfold, scoring='accuracy')\n",
    "    \n",
    "    # Print the cross-validation scores\n",
    "    print(f\"Cross-Validation Scores: {cv_scores}\")\n",
    "    print(f\"Mean Accuracy: {cv_scores.mean():.4f}\\n\")"
   ]
  },
  {
   "cell_type": "code",
   "execution_count": null,
   "metadata": {
    "cell_id": "d0e373317897482fa86f8a56af27c4de",
    "deepnote_app_block_visible": true,
    "deepnote_cell_type": "code",
    "deepnote_to_be_reexecuted": false,
    "executionInfo": {
     "elapsed": 49333,
     "status": "ok",
     "timestamp": 1712807527231,
     "user": {
      "displayName": "Kedar Prabhune",
      "userId": "00885728590805896569"
     },
     "user_tz": 420
    },
    "execution_millis": 36430,
    "execution_start": 1713074689627,
    "id": "sbaecJsyv-Qq",
    "source_hash": null
   },
   "outputs": [],
   "source": [
    "rf_model = RandomForestClassifier(n_estimators=100, random_state=42, max_depth=None)\n",
    "\n",
    "rf_model.fit(X_train, y_train)\n",
    "\n",
    "y_pred = rf_model.predict(X_test)"
   ]
  },
  {
   "cell_type": "code",
   "execution_count": null,
   "metadata": {
    "cell_id": "466bd81aab4c4e7ebfb85992eb60138c",
    "colab": {
     "base_uri": "https://localhost:8080/"
    },
    "deepnote_app_block_visible": true,
    "deepnote_cell_type": "code",
    "deepnote_to_be_reexecuted": false,
    "executionInfo": {
     "elapsed": 30,
     "status": "ok",
     "timestamp": 1712807527232,
     "user": {
      "displayName": "Kedar Prabhune",
      "userId": "00885728590805896569"
     },
     "user_tz": 420
    },
    "execution_millis": 83,
    "execution_start": 1713074726101,
    "id": "JLzD4dJTwQe1",
    "outputId": "cc2f24ad-ba8d-48c0-f5f6-1c871754c337",
    "source_hash": null
   },
   "outputs": [
    {
     "name": "stdout",
     "output_type": "stream",
     "text": [
      "0.853007976955462\n",
      "[[14568  1734]\n",
      " [ 3573 16229]]\n",
      "              precision    recall  f1-score   support\n",
      "\n",
      "           0       0.80      0.89      0.85     16302\n",
      "           1       0.90      0.82      0.86     19802\n",
      "\n",
      "    accuracy                           0.85     36104\n",
      "   macro avg       0.85      0.86      0.85     36104\n",
      "weighted avg       0.86      0.85      0.85     36104\n",
      "\n"
     ]
    }
   ],
   "source": [
    "accuracy_rf = accuracy_score(y_test, y_pred)\n",
    "conf_matrix_rf = confusion_matrix(y_test, y_pred)\n",
    "class_report_rf = classification_report(y_test, y_pred)\n",
    "\n",
    "print(accuracy_rf)\n",
    "print(conf_matrix_rf)\n",
    "print(class_report_rf)"
   ]
  },
  {
   "cell_type": "code",
   "execution_count": null,
   "metadata": {
    "cell_id": "5dfbf83d384142a29a80fedafd56e323",
    "deepnote_app_block_visible": true,
    "deepnote_cell_type": "code",
    "deepnote_to_be_reexecuted": false,
    "execution_millis": 145,
    "execution_start": 1713145941950,
    "id": "bvUFCvmTCwfz",
    "source_hash": null
   },
   "outputs": [],
   "source": [
    "import pickle\n",
    "\n",
    "supply_chain_model= pickle.dump('rf_model', open('supply_model_1.pkl', 'wb'))"
   ]
  },
  {
   "cell_type": "code",
   "execution_count": null,
   "metadata": {
    "cell_id": "4ff1b143465747968914725326517067",
    "deepnote_app_block_visible": true,
    "deepnote_cell_type": "code"
   },
   "outputs": [],
   "source": []
  },
  {
   "cell_type": "markdown",
   "metadata": {
    "created_in_deepnote_cell": true,
    "deepnote_cell_type": "markdown"
   },
   "source": [
    "<a style='text-decoration:none;line-height:16px;display:flex;color:#5B5B62;padding:10px;justify-content:end;' href='https://deepnote.com?utm_source=created-in-deepnote-cell&projectId=cd645cac-d9a0-4bab-87f0-916c90edd13d' target=\"_blank\">\n",
    "<img alt='Created in deepnote.com' style='display:inline;max-height:16px;margin:0px;margin-right:7.5px;' src='data:image/svg+xml;base64,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' > </img>\n",
    "Created in <span style='font-weight:600;margin-left:4px;'>Deepnote</span></a>"
   ]
  }
 ],
 "metadata": {
  "deepnote_app_layout": "powerful-article",
  "deepnote_app_reactivity_enabled": true,
  "deepnote_execution_queue": [],
  "deepnote_notebook_id": "9c37693d0f8b4b4387fbe4c05d3bc2dc",
  "deepnote_persisted_session": {
   "createdAt": "2024-04-15T02:15:31.461Z"
  },
  "kernelspec": {
   "display_name": "Python 3 (ipykernel)",
   "language": "python",
   "name": "python3"
  },
  "language_info": {
   "codemirror_mode": {
    "name": "ipython",
    "version": 3
   },
   "file_extension": ".py",
   "mimetype": "text/x-python",
   "name": "python",
   "nbconvert_exporter": "python",
   "pygments_lexer": "ipython3",
   "version": "3.11.4"
  }
 },
 "nbformat": 4,
 "nbformat_minor": 1
}
